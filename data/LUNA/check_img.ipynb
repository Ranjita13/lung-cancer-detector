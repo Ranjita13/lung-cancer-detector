{
 "cells": [
  {
   "cell_type": "code",
   "execution_count": 5,
   "metadata": {
    "collapsed": true
   },
   "outputs": [],
   "source": [
    "import gzip\n",
    "import pickle\n",
    "import os\n",
    "from scipy.misc import imsave\n",
    "import numpy as np"
   ]
  },
  {
   "cell_type": "code",
   "execution_count": 9,
   "metadata": {
    "collapsed": false
   },
   "outputs": [],
   "source": [
    "mask_path = \"1_1_1mm_slices_lung_masks/\"\n",
    "save_path = \"out/\"\n",
    "data_path = \"1_1_1mm_slices_nodule/\"\n",
    "images_name = os.listdir(mask_path)\n",
    "images_id = [item.rstrip(\".pkl.gz\") for item in images_name if item.startswith(\"1.3.6\")]\n",
    "images_id = np.random.permutation(images_id)[:200]\n",
    "# print(images_id)"
   ]
  },
  {
   "cell_type": "code",
   "execution_count": 11,
   "metadata": {
    "collapsed": false
   },
   "outputs": [],
   "source": [
    "for image_id in images_id:\n",
    "    fi = gzip.open(mask_path + image_id + \".pkl.gz\", 'rb')\n",
    "    image = pickle.load(fi)\n",
    "    fi.close()\n",
    "    imsave(save_path + image_id + \"_mask.jpg\", image)\n",
    "    \n",
    "    fi = gzip.open(data_path + image_id + \".pkl.gz\", 'rb')\n",
    "    image = pickle.load(fi)\n",
    "    fi.close()\n",
    "    imsave(save_path + image_id + \"_image.jpg\", image)"
   ]
  },
  {
   "cell_type": "code",
   "execution_count": null,
   "metadata": {
    "collapsed": true
   },
   "outputs": [],
   "source": []
  }
 ],
 "metadata": {
  "anaconda-cloud": {},
  "kernelspec": {
   "display_name": "Python [conda root]",
   "language": "python",
   "name": "conda-root-py"
  },
  "language_info": {
   "codemirror_mode": {
    "name": "ipython",
    "version": 3
   },
   "file_extension": ".py",
   "mimetype": "text/x-python",
   "name": "python",
   "nbconvert_exporter": "python",
   "pygments_lexer": "ipython3",
   "version": "3.5.2"
  }
 },
 "nbformat": 4,
 "nbformat_minor": 1
}
