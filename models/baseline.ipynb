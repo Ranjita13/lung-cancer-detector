{
 "cells": [
  {
   "cell_type": "code",
   "execution_count": 8,
   "metadata": {},
   "outputs": [],
   "source": [
    "import numpy as np\n",
    "import dicom\n",
    "import glob\n",
    "from matplotlib import pyplot as plt\n",
    "import os\n",
    "# import cv2\n",
    "import tensorflow as tf\n",
    "import pandas as pd\n",
    "from sklearn import cross_validation\n",
    "import xgboost as xgb\n",
    "from __future__ import print_function"
   ]
  },
  {
   "cell_type": "code",
   "execution_count": 4,
   "metadata": {},
   "outputs": [
    {
     "name": "stdout",
     "output_type": "stream",
     "text": [
      "3.5.2\n"
     ]
    }
   ],
   "source": [
    "# Constants\n",
    "label_path = \"../data/sample/stage1_labels.csv\"\n",
    "train_data_dir = \"../data/sample/\""
   ]
  },
  {
   "cell_type": "code",
   "execution_count": null,
   "metadata": {},
   "outputs": [],
   "source": [
    "def get_3d_data(path):\n",
    "    slices = [dicom.read_file(path + '/' + s) for s in os.listdir(path)]\n",
    "    slices.sort(key=lambda x: int(x.InstanceNumber))\n",
    "    return np.stack([s.pixel_array for s in slices])"
   ]
  },
  {
   "cell_type": "code",
   "execution_count": null,
   "metadata": {},
   "outputs": [],
   "source": [
    "def get_extractor():\n",
    "  \n",
    "    return extractor"
   ]
  },
  {
   "cell_type": "code",
   "execution_count": null,
   "metadata": {},
   "outputs": [],
   "source": [
    "def get_features(data, extractor):\n",
    "    \n",
    "    \n",
    "    \n",
    "    \n",
    "#     feats = sess.run(accuracy, feed_dict={x:images})\n",
    "    return feats"
   ]
  },
  {
   "cell_type": "code",
   "execution_count": null,
   "metadata": {},
   "outputs": [],
   "source": [
    "def train(data):\n",
    "    \n",
    "    \n",
    "    # data is a dict, {key: id, value: feature}\n",
    "    feats = # load the dict in some where\n",
    "    \n",
    "  \n",
    "    # feats = get_features(extractor, data)\n",
    "  \n",
    "  \n",
    "    return model"
   ]
  },
  {
   "cell_type": "code",
   "execution_count": null,
   "metadata": {},
   "outputs": [],
   "source": [
    "def predict(model, x):\n",
    "    return preds"
   ]
  },
  {
   "cell_type": "code",
   "execution_count": null,
   "metadata": {},
   "outputs": [],
   "source": [
    "def train_xgboost(feats):\n",
    "    df = pd.read_csv(label_path)\n",
    "    print(df.head())\n",
    "\n",
    "    x = np.array([np.mean(feats[id] for id in df['id'].tolist()])\n",
    "    y = df['cancer'].as_matrix()\n",
    "\n",
    "    trn_x, val_x, trn_y, val_y = cross_validation.train_test_split(x, y, random_state=42, stratify=y,\n",
    "                                                                   test_size=0.20)\n",
    "\n",
    "    clf = xgb.XGBRegressor(max_depth=10,\n",
    "                           n_estimators=1500,\n",
    "                           min_child_weight=9,\n",
    "                           learning_rate=0.05,\n",
    "                           nthread=8,\n",
    "                           subsample=0.80,\n",
    "                           colsample_bytree=0.80,\n",
    "                           seed=4242)\n",
    "\n",
    "    clf.fit(trn_x, trn_y, eval_set=[(val_x, val_y)], verbose=True, eval_metric='logloss', early_stopping_rounds=50)\n",
    "    return clf"
   ]
  },
  {
   "cell_type": "code",
   "execution_count": null,
   "metadata": {},
   "outputs": [],
   "source": [
    "if __name__ == '__main__':\n",
    "    data = get_3d_data('../data/sample/images/0a0c32c9e08cc2ea76a71649de56be6d')\n",
    "    \n",
    "    \n",
    "   # model = train(train_data)\n",
    "   # preds = predict(model, test_data)"
   ]
  }
 ],
 "metadata": {
  "anaconda-cloud": {},
  "kernelspec": {
   "display_name": "Python [conda root]",
   "language": "python",
   "name": "conda-root-py"
  },
  "language_info": {
   "codemirror_mode": {
    "name": "ipython",
    "version": 3.0
   },
   "file_extension": ".py",
   "mimetype": "text/x-python",
   "name": "python",
   "nbconvert_exporter": "python",
   "pygments_lexer": "ipython3",
   "version": "3.5.2"
  }
 },
 "nbformat": 4,
 "nbformat_minor": 0
}