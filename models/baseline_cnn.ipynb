{
 "cells": [
  {
   "cell_type": "code",
   "execution_count": 3,
   "metadata": {},
   "outputs": [],
   "source": [
    "import numpy as np\n",
    "import dicom\n",
    "import os\n",
    "import cv2\n",
    "import tensorflow as tf"
   ]
  },
  {
   "cell_type": "code",
   "execution_count": 4,
   "metadata": {},
   "outputs": [],
   "source": [
    "'''\n",
    "  Gets 3d data from DICOM file as (depth, width, height)\n",
    "'''\n",
    "def get_3d_data_from_dicom(path):\n",
    "  slices = [dicom.read_file(path + '/' + s) for s in os.listdir(path)]\n",
    "  slices.sort(key=lambda x: int(x.InstanceNumber))\n",
    "  return np.stack([s.pixel_array for s in slices])"
   ]
  },
  {
   "cell_type": "code",
   "execution_count": 5,
   "metadata": {},
   "outputs": [],
   "source": [
    "'''\n",
    "  Preprocess a single 3d data\n",
    "  1. Resize to a uniform size\n",
    "  2. ...\n",
    "\n",
    "'''\n",
    "def preprocess(data, depth, height, width):\n",
    "  if data.shape[0] > depth:\n",
    "    data = data[:depth]\n",
    "  else:\n",
    "    data = data\n",
    "    # TODO: fill with zeros.\n",
    "\n",
    "  # This expansion add channel dimension as last dimension\n",
    "  data = np.expand_dims(data, axis=len(data.shape))\n",
    "  return data"
   ]
  },
  {
   "cell_type": "code",
   "execution_count": 6,
   "metadata": {},
   "outputs": [],
   "source": [
    "def conv3d(data, w):\n",
    "  return tf.nn.conv3d(data, w, strides=[1, 1, 1, 1, 1], padding='SAME')\n",
    "\n",
    "def max_pool3d(data, depth_stride):\n",
    "  return tf.nn.max_pool3d(data, [1, depth_stride, 2, 2, 1], [1, depth_stride, 2, 2, 1], padding='SAME')"
   ]
  },
  {
   "cell_type": "code",
   "execution_count": 10,
   "metadata": {},
   "outputs": [],
   "source": [
    "# Parameters\n",
    "batch_size = 1\n",
    "num_labels = 1\n",
    "\n",
    "in_depth = 120\n",
    "in_height = 512\n",
    "in_width = 512\n",
    "in_channels = 1\n",
    "\n",
    "filter_depth = 3\n",
    "filter_height = 3\n",
    "filter_width = 3\n",
    "\n",
    "layer1_channels = 8\n",
    "layer2_channels = 8\n",
    "\n",
    "num_hidden = 64\n",
    "\n",
    "\n",
    "# Graph\n",
    "graph = tf.Graph()\n",
    "with graph.as_default():\n",
    "\n",
    "  # Input data.\n",
    "  tf_train_dataset = tf.placeholder(\n",
    "    tf.float32, shape=(batch_size, in_depth, in_height, in_width, in_channels))\n",
    "  tf_train_labels = tf.placeholder(tf.float32, shape=(batch_size, num_labels))\n",
    "  \n",
    "  # Variables.\n",
    "  layer1_weights = tf.Variable(tf.truncated_normal(\n",
    "      [filter_depth, filter_height, filter_width, in_channels, layer1_channels], stddev=0.1))\n",
    "  layer1_biases = tf.Variable(tf.zeros([layer1_channels]))\n",
    "\n",
    "  layer2_weights = tf.Variable(tf.truncated_normal(\n",
    "      [filter_depth, filter_height, filter_width, layer1_channels, layer2_channels], stddev=0.1))\n",
    "  layer2_biases = tf.Variable(tf.constant(1.0, shape=[layer2_channels]))\n",
    "\n",
    "  layer3_weights = tf.Variable(tf.truncated_normal(\n",
    "      [in_depth // 4 * in_height // 4 * in_width // 4 * layer2_channels, num_hidden], stddev=0.1))\n",
    "  layer3_biases = tf.Variable(tf.constant(1.0, shape=[num_hidden]))\n",
    "\n",
    "  layer4_weights = tf.Variable(tf.truncated_normal(\n",
    "      [num_hidden, num_labels], stddev=0.1))\n",
    "  layer4_biases = tf.Variable(tf.constant(1.0, shape=[num_labels]))\n",
    "  \n",
    "  # Model.\n",
    "  def model(data):\n",
    "    conv1 = conv3d(data, layer1_weights)\n",
    "    conv1 = tf.Print(conv1, [tf.argmax(conv1,1)], 'argmax after conv1 = ') # print something with tf.Print\n",
    "    conv1 = tf.nn.relu(conv1 + layer1_biases)\n",
    "    pool1 = max_pool3d(conv1, 2)\n",
    "    \n",
    "    conv2 = conv3d(pool1, layer2_weights)\n",
    "    conv2 = tf.nn.relu(conv2 + layer2_biases)\n",
    "    pool2 = max_pool3d(conv2, 2)\n",
    "    \n",
    "    shape = pool2.get_shape().as_list()\n",
    "    reshape = tf.reshape(pool2, [shape[0], shape[1] * shape[2] * shape[3] * shape[4]])\n",
    "    \n",
    "    hidden = tf.nn.relu(tf.matmul(reshape, layer3_weights) + layer3_biases)\n",
    "    return tf.matmul(hidden, layer4_weights) + layer4_biases\n",
    "  \n",
    "  # Training computation.\n",
    "  logits = model(tf_train_dataset)\n",
    "  loss = tf.reduce_mean(\n",
    "    tf.nn.softmax_cross_entropy_with_logits(logits, tf_train_labels))\n",
    "    \n",
    "  # Optimizer.\n",
    "  optimizer = tf.train.GradientDescentOptimizer(0.05).minimize(loss)\n",
    "  \n",
    "  # Prediction\n",
    "  train_prediction = tf.nn.softmax(logits)"
   ]
  },
  {
   "cell_type": "code",
   "execution_count": null,
   "metadata": {},
   "outputs": [
    {
     "name": "stdout",
     "output_type": "stream",
     "text": [
      "Initialized\n"
     ]
    }
   ],
   "source": [
    "num_steps = 10\n",
    "\n",
    "with tf.Session(graph=graph) as session:\n",
    "  tf.global_variables_initializer().run()\n",
    "  print('Initialized')\n",
    "\n",
    "  # test on one data point\n",
    "  data = get_3d_data_from_dicom('../data/sample/images/0a0c32c9e08cc2ea76a71649de56be6d')\n",
    "  train_data = preprocess(data, in_depth, in_height, in_width)\n",
    "  train_label = np.array([1])\n",
    "\n",
    "  for step in range(num_steps):\n",
    "    feed_dict = {tf_train_dataset: np.array([train_data]), tf_train_labels: np.array([train_label])}\n",
    "    _, l, predictions = session.run([optimizer, loss, train_prediction], feed_dict=feed_dict)\n",
    "    print('Minibatch loss at step %d: %f' % (step, l))"
   ]
  },
  {
   "cell_type": "code",
   "execution_count": null,
   "metadata": {},
   "outputs": [],
   "source": [
    ""
   ]
  }
 ],
 "metadata": {
  "kernelspec": {
   "display_name": "tensorflow",
   "language": "python",
   "name": "tensorflow"
  },
  "language_info": {
   "codemirror_mode": {
    "name": "ipython",
    "version": 2.0
   },
   "file_extension": ".py",
   "mimetype": "text/x-python",
   "name": "python",
   "nbconvert_exporter": "python",
   "pygments_lexer": "ipython2",
   "version": "2.7.10"
  }
 },
 "nbformat": 4,
 "nbformat_minor": 0
}