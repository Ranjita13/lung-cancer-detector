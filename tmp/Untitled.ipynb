{
 "cells": [
  {
   "cell_type": "code",
   "execution_count": 1,
   "metadata": {
    "collapsed": true
   },
   "outputs": [],
   "source": [
    "import gzip\n",
    "import pickle\n",
    "from scipy.misc import imsave\n",
    "\n",
    "fi = gzip.open('img.pkl.gz','rb')\n",
    "img = pickle.load(fi)\n",
    "fi.close()\n",
    "imsave(\"ori2.jpg\", img)\n",
    "\n",
    "fi = gzip.open('mask.pkl.gz','rb')\n",
    "img = pickle.load(fi)\n",
    "fi.close()\n",
    "imsave(\"mask2.jpg\", img)"
   ]
  },
  {
   "cell_type": "code",
   "execution_count": null,
   "metadata": {
    "collapsed": true
   },
   "outputs": [],
   "source": []
  }
 ],
 "metadata": {
  "anaconda-cloud": {},
  "kernelspec": {
   "display_name": "Python [conda root]",
   "language": "python",
   "name": "conda-root-py"
  },
  "language_info": {
   "codemirror_mode": {
    "name": "ipython",
    "version": 3
   },
   "file_extension": ".py",
   "mimetype": "text/x-python",
   "name": "python",
   "nbconvert_exporter": "python",
   "pygments_lexer": "ipython3",
   "version": "3.5.2"
  }
 },
 "nbformat": 4,
 "nbformat_minor": 1
}
